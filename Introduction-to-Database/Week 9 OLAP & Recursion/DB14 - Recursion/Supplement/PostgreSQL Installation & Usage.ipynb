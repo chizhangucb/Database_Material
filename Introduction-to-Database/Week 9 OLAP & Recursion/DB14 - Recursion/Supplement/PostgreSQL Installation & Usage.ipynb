{
 "cells": [
  {
   "cell_type": "markdown",
   "metadata": {},
   "source": [
    "# Installing PostgreSQL on macOS\n",
    "\n",
    "http://wiki.postgresql.org/wiki/Detailed_installation_guides#MacOS\n",
    "\n",
    "Go to the [Postgres.app](https://postgresapp.com/) download page. Or you can download [old versions](https://github.com/PostgresApp/PostgresApp/releases)\n",
    "\n",
    "Once you're in the Postgres SQL shell, you have three options to run queries: you can type them by hand each time, copy them from somewhere else and paste them into the SQL shell window, or execute a file as a script.\n",
    "\n",
    "To try executing a SQL file from the SQL shell, download the starter script, place it somewhere that you can easily remember the file path, and type the following at the prompt (where ~PATH~ represents the path to the file):\n",
    "`postgres=# \\i '~PATH~/postgres-start.sql'`\n",
    "\n",
    "The output should be the same as with the the copy-paste method. To see the full list of Postgres-specific output commands like '\\i', type '\\?' or consult the [meta-commands list in the Postgres psql documentation](https://www.postgresql.org/docs/9.0/static/app-psql.html).\n",
    "\n",
    "When you're finished, type '\\q' to close the connection. The database state will be saved, so all your tables will still be there when you connect again later.\n",
    "\n",
    "# Troubleshooting & Support\n",
    "\n",
    "https://postgresapp.com/documentation/troubleshooting.html\n",
    "\n",
    "* Postgres app error data directory in use Ask Question\n",
    "https://stackoverflow.com/questions/42521331/postgres-app-error-data-directory-in-use\n",
    "\n",
    "* Postgres.app - Could not start on Port 5432\n",
    "https://github.com/PostgresApp/PostgresApp/issues/197\n",
    "\n",
    "* Postgres.app fails to start\n",
    "https://stackoverflow.com/questions/18596726/postgres-app-fails-to-start\n",
    "\n",
    "\n",
    "# Uninstalling \n",
    "* https://postgresapp.com/documentation/install.html\n",
    "* https://www.uninstallmacapp.com/postgres-app-9-4-2-0-removal.html\n"
   ]
  }
 ],
 "metadata": {
  "kernelspec": {
   "display_name": "Python 3",
   "language": "python",
   "name": "python3"
  },
  "language_info": {
   "codemirror_mode": {
    "name": "ipython",
    "version": 3
   },
   "file_extension": ".py",
   "mimetype": "text/x-python",
   "name": "python",
   "nbconvert_exporter": "python",
   "pygments_lexer": "ipython3",
   "version": "3.6.5"
  }
 },
 "nbformat": 4,
 "nbformat_minor": 2
}
