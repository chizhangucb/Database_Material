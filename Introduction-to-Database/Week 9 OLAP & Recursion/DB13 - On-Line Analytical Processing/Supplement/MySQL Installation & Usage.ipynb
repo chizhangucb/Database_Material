{
 "cells": [
  {
   "cell_type": "markdown",
   "metadata": {},
   "source": [
    "# Installing MySQL on macOS\n",
    "\n",
    "https://dev.mysql.com/doc/refman/8.0/en/osx-installation.html\n",
    "\n",
    "Go to the [MySQL Community Server](https://dev.mysql.com/downloads/mysql/) download page and select the DMG archive for your architecture (if in doubt, 32-bit is a safe bet). Open the disk image file, and run both of the package installers (MySQL and MySQLStartupItem). All standard settings and installation locations should be fine.\n",
    "\n",
    "To get to the MySQL shell, you will need to open a terminal window and run the following commands: <br />\n",
    "`sudo /Library/StartupItems/MySQLCOM/MySQLCOM start` <br />\n",
    "`/usr/local/mysql/bin/mysql`\n",
    "\n",
    "When the command above doesn't work, try the following one and you may be asked for the password you set for MySQL: <br /> \n",
    "`/usr/local/mysql/bin/mysql mysql -u root -p`\n",
    "\n",
    "## Connecting to the MySQL Server\n",
    "\n",
    "https://dev.mysql.com/doc/refman/8.0/en/connecting.html\n",
    "\n",
    "\n",
    "Also, you can connect to SQL with Visual Studio Code by http://duffney.io/ConnectTo-SQL-VSCode\n",
    "\n",
    "## FQA\n",
    "### hostname in MySQL\n",
    "\n",
    "https://stackoverflow.com/questions/44579928/cant-get-machines-hostname-in-mysql\n",
    "\n",
    "Answer: use `select @@hostname;` in mysql\n",
    "\n",
    "### data directory in MySQL \n",
    "https://stackoverflow.com/questions/17968287/how-to-find-the-mysql-data-directory-from-command-line-in-windows\n",
    "\n",
    "Answer: use `select @@datadir;` in mysql\n",
    "\n",
    "\n",
    "# Usage of MySQL\n",
    "\n",
    "## Create and Use Databases \n",
    "```SQL\n",
    "/*** e.g., create a DB called OLAPdata***/\n",
    "CREATE DATABASE OLAPdata;\n",
    "USE YourDB;\n",
    "```"
   ]
  },
  {
   "cell_type": "markdown",
   "metadata": {},
   "source": []
  }
 ],
 "metadata": {
  "kernelspec": {
   "display_name": "Python 3",
   "language": "python",
   "name": "python3"
  },
  "language_info": {
   "codemirror_mode": {
    "name": "ipython",
    "version": 3
   },
   "file_extension": ".py",
   "mimetype": "text/x-python",
   "name": "python",
   "nbconvert_exporter": "python",
   "pygments_lexer": "ipython3",
   "version": "3.6.5"
  }
 },
 "nbformat": 4,
 "nbformat_minor": 2
}
